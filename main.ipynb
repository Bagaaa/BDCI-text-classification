{
 "cells": [
  {
   "cell_type": "code",
   "execution_count": 1,
   "metadata": {
    "ExecuteTime": {
     "end_time": "2019-10-31T15:17:50.346820Z",
     "start_time": "2019-10-31T15:17:37.717415Z"
    }
   },
   "outputs": [
    {
     "data": {
      "text/html": [
       "<div>\n",
       "<style scoped>\n",
       "    .dataframe tbody tr th:only-of-type {\n",
       "        vertical-align: middle;\n",
       "    }\n",
       "\n",
       "    .dataframe tbody tr th {\n",
       "        vertical-align: top;\n",
       "    }\n",
       "\n",
       "    .dataframe thead th {\n",
       "        text-align: right;\n",
       "    }\n",
       "</style>\n",
       "<table border=\"1\" class=\"dataframe\">\n",
       "  <thead>\n",
       "    <tr style=\"text-align: right;\">\n",
       "      <th></th>\n",
       "      <th>label</th>\n",
       "      <th>comment</th>\n",
       "      <th>segments</th>\n",
       "    </tr>\n",
       "  </thead>\n",
       "  <tbody>\n",
       "    <tr>\n",
       "      <th>0</th>\n",
       "      <td>0</td>\n",
       "      <td>一如既往地好吃，希望可以开到其他城市</td>\n",
       "      <td>[一如既往, 地, 好吃, ，, 希望, 可以, 开到, 其他, 城市]</td>\n",
       "    </tr>\n",
       "    <tr>\n",
       "      <th>1</th>\n",
       "      <td>0</td>\n",
       "      <td>味道很不错，分量足，客人很多，满意</td>\n",
       "      <td>[味道, 很, 不错, ，, 分量, 足, ，, 客人, 很多, ，, 满意]</td>\n",
       "    </tr>\n",
       "    <tr>\n",
       "      <th>2</th>\n",
       "      <td>0</td>\n",
       "      <td>下雨天来的，没有想象中那么火爆。环境非常干净，古色古香的，我自己也是个做服务行业的，我都觉得...</td>\n",
       "      <td>[下雨天, 来, 的, ，, 没有, 想象, 中, 那么, 火爆, 。, 环境, 非常, 干...</td>\n",
       "    </tr>\n",
       "    <tr>\n",
       "      <th>3</th>\n",
       "      <td>0</td>\n",
       "      <td>真心不好吃 基本上没得好多味道</td>\n",
       "      <td>[真心, 不, 好吃, 基本上, 没, 得, 好多, 味道]</td>\n",
       "    </tr>\n",
       "    <tr>\n",
       "      <th>4</th>\n",
       "      <td>0</td>\n",
       "      <td>少送一个牛肉汉堡 而且也不好吃 特别是鸡肉卷 **都不想评论了 谁买谁知道</td>\n",
       "      <td>[少送, 一个, 牛肉, 汉堡, 而且, 也, 不, 好吃, 特别, 是, 鸡肉卷, **,...</td>\n",
       "    </tr>\n",
       "  </tbody>\n",
       "</table>\n",
       "</div>"
      ],
      "text/plain": [
       "   label                                            comment  \\\n",
       "0      0                                 一如既往地好吃，希望可以开到其他城市   \n",
       "1      0                                  味道很不错，分量足，客人很多，满意   \n",
       "2      0  下雨天来的，没有想象中那么火爆。环境非常干净，古色古香的，我自己也是个做服务行业的，我都觉得...   \n",
       "3      0                                    真心不好吃 基本上没得好多味道   \n",
       "4      0              少送一个牛肉汉堡 而且也不好吃 特别是鸡肉卷 **都不想评论了 谁买谁知道   \n",
       "\n",
       "                                            segments  \n",
       "0               [一如既往, 地, 好吃, ，, 希望, 可以, 开到, 其他, 城市]  \n",
       "1            [味道, 很, 不错, ，, 分量, 足, ，, 客人, 很多, ，, 满意]  \n",
       "2  [下雨天, 来, 的, ，, 没有, 想象, 中, 那么, 火爆, 。, 环境, 非常, 干...  \n",
       "3                     [真心, 不, 好吃, 基本上, 没, 得, 好多, 味道]  \n",
       "4  [少送, 一个, 牛肉, 汉堡, 而且, 也, 不, 好吃, 特别, 是, 鸡肉卷, **,...  "
      ]
     },
     "execution_count": 1,
     "metadata": {},
     "output_type": "execute_result"
    }
   ],
   "source": [
    "import pkuseg\n",
    "import jieba\n",
    "import pandas as pd\n",
    "\n",
    "\n",
    "def segment():\n",
    "    train_data = pd.read_csv(\n",
    "        '/Users/kevin/Workspace/food_safety/data/train.csv')\n",
    "    test_data = pd.read_csv(\n",
    "        '/Users/kevin/Workspace/food_safety/data/test_new.csv')\n",
    "\n",
    "    seg = pkuseg.pkuseg(model_name='web')  # 以默认配置加载模型\n",
    "    train_data['segments'] = train_data['comment'].apply(lambda i: seg.cut(i))\n",
    "    test_data['segments'] = test_data['comment'].apply(lambda i: seg.cut(i))\n",
    "    \n",
    "    return train_data, test_data\n",
    "\n",
    "\n",
    "def segmentJieba():\n",
    "    train_data = pd.read_csv(\n",
    "        '/Users/kevin/Workspace/food_safety/data/train.csv')\n",
    "    test_data = pd.read_csv(\n",
    "        '/Users/kevin/Workspace/food_safety/data/test_new.csv')\n",
    "\n",
    "    jieba.enable_parallel(64)  #并行分词开启\n",
    "    train_data['segments'] = train_data['comment'].apply(lambda i: jieba.cut(i))\n",
    "    test_data['segments'] = test_data['comment'].apply(lambda i: jieba.cut(i))\n",
    "\n",
    "    test_data['segments'] = ['/ '.join(i) for i in test_data['segments']]\n",
    "    train_data['segments'] = ['/ '.join(i) for i in train_data['segments']]\n",
    "\n",
    "    return train_data, test_data\n",
    "\n",
    "\n",
    "train_data, test_data = segment()\n",
    "train_data.head()"
   ]
  },
  {
   "cell_type": "code",
   "execution_count": 7,
   "metadata": {
    "ExecuteTime": {
     "end_time": "2019-10-31T15:42:13.102667Z",
     "start_time": "2019-10-31T15:42:12.729494Z"
    }
   },
   "outputs": [],
   "source": [
    "import pandas as pd\n",
    "from sklearn.feature_extraction.text import CountVectorizer, TfidfTransformer\n",
    "\n",
    "count_vect = CountVectorizer()\n",
    "tfidf_transformer = TfidfTransformer()\n",
    "\n",
    "X_train_counts = count_vect.fit_transform(train_data['comment'])\n",
    "X_train_tfidf = tfidf_transformer.fit_transform(X_train_counts)"
   ]
  },
  {
   "cell_type": "code",
   "execution_count": null,
   "metadata": {},
   "outputs": [],
   "source": []
  }
 ],
 "metadata": {
  "kernelspec": {
   "display_name": "Python 3",
   "language": "python",
   "name": "python3"
  },
  "language_info": {
   "codemirror_mode": {
    "name": "ipython",
    "version": 3
   },
   "file_extension": ".py",
   "mimetype": "text/x-python",
   "name": "python",
   "nbconvert_exporter": "python",
   "pygments_lexer": "ipython3",
   "version": "3.7.2"
  },
  "latex_envs": {
   "LaTeX_envs_menu_present": true,
   "autoclose": true,
   "autocomplete": true,
   "bibliofile": "biblio.bib",
   "cite_by": "apalike",
   "current_citInitial": 1,
   "eqLabelWithNumbers": true,
   "eqNumInitial": 1,
   "hotkeys": {
    "equation": "Ctrl-E",
    "itemize": "Ctrl-I"
   },
   "labels_anchors": false,
   "latex_user_defs": false,
   "report_style_numbering": false,
   "user_envs_cfg": false
  },
  "toc": {
   "base_numbering": 1,
   "nav_menu": {},
   "number_sections": true,
   "sideBar": true,
   "skip_h1_title": false,
   "title_cell": "Table of Contents",
   "title_sidebar": "Contents",
   "toc_cell": false,
   "toc_position": {},
   "toc_section_display": true,
   "toc_window_display": false
  },
  "varInspector": {
   "cols": {
    "lenName": 16,
    "lenType": 16,
    "lenVar": 40
   },
   "kernels_config": {
    "python": {
     "delete_cmd_postfix": "",
     "delete_cmd_prefix": "del ",
     "library": "var_list.py",
     "varRefreshCmd": "print(var_dic_list())"
    },
    "r": {
     "delete_cmd_postfix": ") ",
     "delete_cmd_prefix": "rm(",
     "library": "var_list.r",
     "varRefreshCmd": "cat(var_dic_list()) "
    }
   },
   "types_to_exclude": [
    "module",
    "function",
    "builtin_function_or_method",
    "instance",
    "_Feature"
   ],
   "window_display": false
  }
 },
 "nbformat": 4,
 "nbformat_minor": 2
}
